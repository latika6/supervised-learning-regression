{
 "cells": [
  {
   "cell_type": "code",
   "execution_count": null,
   "metadata": {},
   "outputs": [],
   "source": [
    "# week 2\n",
    "# machine learning life cycles\n",
    "# feature interaction\n",
    "# gradient descent\n",
    "# feature selection\n",
    "# hyperparameter"
   ]
  },
  {
   "cell_type": "code",
   "execution_count": null,
   "metadata": {},
   "outputs": [],
   "source": [
    "# Machine learning life cycles\n",
    "# 1. data processing - problem statement, dataset, eda, collection, formatting\n",
    "# 2. feature selection - independent, target variables, feature transformation, engineering, selection\n",
    "# 3. modeling - model builiding, selection of algo\n",
    "# 4. optimization - performance of the models, fine tuning, validation\n",
    "# 5. deployment"
   ]
  },
  {
   "cell_type": "code",
   "execution_count": null,
   "metadata": {},
   "outputs": [],
   "source": [
    "# Gradient Descent is to help to reduce cost function \n",
    "# Batch Gradient Descent - \n",
    "# Cost Function = loss function = error function = sum of squares errors\n",
    "# E1 = actual - predicted\n",
    "# E2\n",
    "# if E2 < E1 then E2 is the best fit line for the model\n",
    "# learning rate "
   ]
  },
  {
   "cell_type": "code",
   "execution_count": null,
   "metadata": {},
   "outputs": [],
   "source": [
    "# types of gradient descent\n",
    "# "
   ]
  }
 ],
 "metadata": {
  "kernelspec": {
   "display_name": "Python 3",
   "language": "python",
   "name": "python3"
  },
  "language_info": {
   "name": "python",
   "version": "3.12.1"
  }
 },
 "nbformat": 4,
 "nbformat_minor": 2
}
